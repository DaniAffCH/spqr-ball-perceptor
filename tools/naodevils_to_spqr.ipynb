{
 "cells": [
  {
   "cell_type": "code",
   "execution_count": 2,
   "metadata": {},
   "outputs": [
    {
     "name": "stdout",
     "output_type": "stream",
     "text": [
      "loading annotations into memory...\n",
      "Done (t=0.04s)\n",
      "creating index...\n",
      "index created!\n"
     ]
    }
   ],
   "source": [
    "from pycocotools.coco import COCO\n",
    "import os\n",
    "import glob\n",
    "import shutil\n",
    "import cv2\n",
    "import numpy as np\n",
    "import matplotlib.pyplot as plt\n",
    "from matplotlib.patches import Circle\n",
    "import tqdm\n",
    "import pandas as pd\n",
    "dataset = COCO('annotations/manual_val.json')\n"
   ]
  },
  {
   "cell_type": "code",
   "execution_count": null,
   "metadata": {},
   "outputs": [],
   "source": [
    "\n",
    "# move all images into one folder\n",
    "img_src_dir = \"\"\n",
    "img_dir = \"images\"\n",
    "image_sub_folders = [\n",
    "   \"upper_00000_00500\", \"upper_00500_01000\", \"upper_01000_01500\", \"upper_01500_02000\",\n",
    "   \"upper_02000_03000\", \"upper_03000_04000\", \"upper_04000_05000\", \"upper_05000_06000\",\n",
    "   \"upper_06000_07000\", \"upper_07000_08000\", \"upper_08000_09000\", \"upper_09000_10000\"\n",
    "   ]\n",
    "os.mkdir(img_dir)\n",
    "for image_sub_folder in image_sub_folders:\n",
    "  sub_folder_path = os.path.join(img_src_dir, image_sub_folder)\n",
    "  for file_path in glob.glob(os.path.join(sub_folder_path, '*.*')):\n",
    "    shutil.move(file_path, img_dir)\n",
    "  os.rmdir(sub_folder_path)"
   ]
  },
  {
   "cell_type": "code",
   "execution_count": 5,
   "metadata": {},
   "outputs": [
    {
     "name": "stderr",
     "output_type": "stream",
     "text": [
      "100%|██████████| 151/151 [00:02<00:00, 61.92it/s]\n"
     ]
    }
   ],
   "source": [
    "category_ids = dataset.getCatIds()\n",
    "annotation_ids = dataset.getImgIds()\n",
    "SHOW = False\n",
    "\n",
    "def get_ball_poly(annotation):\n",
    "  for ann in annotation:\n",
    "    segmentations = ann['segmentation']\n",
    "    category_id = ann['category_id']\n",
    "    if category_id == 2:\n",
    "      return np.array(segmentations[0]).reshape(-1, 2).round().astype(int)\n",
    "\n",
    "def compute_center(pts):\n",
    "    x = pts[:, 0]\n",
    "    y = pts[:, 1]\n",
    "\n",
    "    A = np.vstack([x, y, np.ones(len(pts))]).T\n",
    "    B = np.square(x) + np.square(y)\n",
    "\n",
    "    h, k, _ = np.linalg.lstsq(A, B, rcond=None)[0]/2\n",
    "\n",
    "    return np.array([h,k])\n",
    "\n",
    "data = list()\n",
    "\n",
    "for idx in tqdm.tqdm(annotation_ids):\n",
    "    img_data = dataset.loadImgs(int(idx))[0]\n",
    "    img_path = os.path.join(img_dir, img_data[\"file_name\"])\n",
    "    assert(os.path.isfile(img_path)), img_data[\"file_name\"] \n",
    "    img = cv2.imread(img_path)\n",
    "\n",
    "    pts = get_ball_poly(dataset.loadAnns(dataset.getAnnIds(idx)))\n",
    "\n",
    "    if pts is None:\n",
    "       data.append({'image': img_data[\"file_name\"], 'frame_contains_ball': False, 'center_x': None, 'center_y': None, 'radius': None})\n",
    "    else:\n",
    "      com = compute_center(pts)\n",
    "      radius = np.linalg.norm(pts - com, axis=1).mean()\n",
    "      data.append({'image': img_data[\"file_name\"], 'frame_contains_ball': True, 'center_x': com[0], 'center_y': com[1], 'radius': radius})\n",
    "\n",
    "    if SHOW:\n",
    "      fig, ax = plt.subplots()\n",
    "      circle = Circle(com, radius, color='red', fill=True, alpha=0.5)\n",
    "      ax.add_patch(circle)\n",
    "      ax.imshow(img)\n",
    "      plt.show()\n",
    "\n",
    "df = pd.DataFrame(data)\n",
    "\n",
    "df.to_csv(\"manual_val.csv\")\n"
   ]
  }
 ],
 "metadata": {
  "kernelspec": {
   "display_name": "Python 3",
   "language": "python",
   "name": "python3"
  },
  "language_info": {
   "codemirror_mode": {
    "name": "ipython",
    "version": 3
   },
   "file_extension": ".py",
   "mimetype": "text/x-python",
   "name": "python",
   "nbconvert_exporter": "python",
   "pygments_lexer": "ipython3",
   "version": "3.10.12"
  }
 },
 "nbformat": 4,
 "nbformat_minor": 2
}
