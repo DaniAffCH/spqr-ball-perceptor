{
 "cells": [
  {
   "cell_type": "code",
   "execution_count": 12,
   "metadata": {},
   "outputs": [],
   "source": [
    "import onnx\n",
    "\n",
    "MODEL_PATH = \"../model.onnx\"\n",
    "OUTPUT_PATH_FEATURE_EXTRACTOR = \"../models/feature_extractor.onnx\"\n",
    "OUTPUT_PATH_CLASSIFICATION = \"../models/classification.onnx\"\n",
    "OUTPUT_PATH_DETECTION = \"../models/detection.onnx\"\n",
    "\n",
    "model = onnx.load(MODEL_PATH)\n"
   ]
  },
  {
   "cell_type": "code",
   "execution_count": 6,
   "metadata": {},
   "outputs": [
    {
     "name": "stdout",
     "output_type": "stream",
     "text": [
      "/bin/bash: line 1: netron: command not found\n"
     ]
    }
   ],
   "source": [
    "!netron MODEL_PATH"
   ]
  },
  {
   "cell_type": "code",
   "execution_count": 14,
   "metadata": {},
   "outputs": [
    {
     "ename": "KeyError",
     "evalue": "'Reshape_0'",
     "output_type": "error",
     "traceback": [
      "\u001b[0;31m---------------------------------------------------------------------------\u001b[0m",
      "\u001b[0;31mKeyError\u001b[0m                                  Traceback (most recent call last)",
      "Cell \u001b[0;32mIn[14], line 8\u001b[0m\n\u001b[1;32m      5\u001b[0m classification_head_input_names \u001b[38;5;241m=\u001b[39m [\u001b[38;5;124m'\u001b[39m\u001b[38;5;124mReshape_0\u001b[39m\u001b[38;5;124m'\u001b[39m]  \n\u001b[1;32m      6\u001b[0m classification_head_output_names \u001b[38;5;241m=\u001b[39m [\u001b[38;5;124m'\u001b[39m\u001b[38;5;124moutput_classification\u001b[39m\u001b[38;5;124m'\u001b[39m]  \n\u001b[0;32m----> 8\u001b[0m feature_extractor \u001b[38;5;241m=\u001b[39m \u001b[43monnx\u001b[49m\u001b[38;5;241;43m.\u001b[39;49m\u001b[43mutils\u001b[49m\u001b[38;5;241;43m.\u001b[39;49m\u001b[43mextract_model\u001b[49m\u001b[43m(\u001b[49m\u001b[43mMODEL_PATH\u001b[49m\u001b[43m,\u001b[49m\u001b[43m \u001b[49m\u001b[43mOUTPUT_PATH_FEATURE_EXTRACTOR\u001b[49m\u001b[43m,\u001b[49m\u001b[43m \u001b[49m\u001b[43mfeature_extractor_input_names\u001b[49m\u001b[43m,\u001b[49m\u001b[43m \u001b[49m\u001b[43mfeature_extractor_output_names\u001b[49m\u001b[43m,\u001b[49m\u001b[43m \u001b[49m\u001b[43mcheck_model\u001b[49m\u001b[38;5;241;43m=\u001b[39;49m\u001b[38;5;28;43;01mTrue\u001b[39;49;00m\u001b[43m)\u001b[49m\n",
      "File \u001b[0;32m/media/raid0/.conda/lib/python3.11/site-packages/onnx/utils.py:210\u001b[0m, in \u001b[0;36mextract_model\u001b[0;34m(input_path, output_path, input_names, output_names, check_model)\u001b[0m\n\u001b[1;32m    207\u001b[0m model \u001b[38;5;241m=\u001b[39m onnx\u001b[38;5;241m.\u001b[39mload(input_path)\n\u001b[1;32m    209\u001b[0m e \u001b[38;5;241m=\u001b[39m Extractor(model)\n\u001b[0;32m--> 210\u001b[0m extracted \u001b[38;5;241m=\u001b[39m \u001b[43me\u001b[49m\u001b[38;5;241;43m.\u001b[39;49m\u001b[43mextract_model\u001b[49m\u001b[43m(\u001b[49m\u001b[43minput_names\u001b[49m\u001b[43m,\u001b[49m\u001b[43m \u001b[49m\u001b[43moutput_names\u001b[49m\u001b[43m)\u001b[49m\n\u001b[1;32m    212\u001b[0m onnx\u001b[38;5;241m.\u001b[39msave(extracted, output_path)\n\u001b[1;32m    213\u001b[0m \u001b[38;5;28;01mif\u001b[39;00m check_model:\n",
      "File \u001b[0;32m/media/raid0/.conda/lib/python3.11/site-packages/onnx/utils.py:166\u001b[0m, in \u001b[0;36mExtractor.extract_model\u001b[0;34m(self, input_names, output_names)\u001b[0m\n\u001b[1;32m    160\u001b[0m \u001b[38;5;28;01mdef\u001b[39;00m \u001b[38;5;21mextract_model\u001b[39m(\n\u001b[1;32m    161\u001b[0m     \u001b[38;5;28mself\u001b[39m,\n\u001b[1;32m    162\u001b[0m     input_names: \u001b[38;5;28mlist\u001b[39m[\u001b[38;5;28mstr\u001b[39m],\n\u001b[1;32m    163\u001b[0m     output_names: \u001b[38;5;28mlist\u001b[39m[\u001b[38;5;28mstr\u001b[39m],\n\u001b[1;32m    164\u001b[0m ) \u001b[38;5;241m-\u001b[39m\u001b[38;5;241m>\u001b[39m ModelProto:\n\u001b[1;32m    165\u001b[0m     inputs \u001b[38;5;241m=\u001b[39m \u001b[38;5;28mself\u001b[39m\u001b[38;5;241m.\u001b[39m_collect_new_inputs(input_names)\n\u001b[0;32m--> 166\u001b[0m     outputs \u001b[38;5;241m=\u001b[39m \u001b[38;5;28;43mself\u001b[39;49m\u001b[38;5;241;43m.\u001b[39;49m\u001b[43m_collect_new_outputs\u001b[49m\u001b[43m(\u001b[49m\u001b[43moutput_names\u001b[49m\u001b[43m)\u001b[49m\n\u001b[1;32m    167\u001b[0m     nodes \u001b[38;5;241m=\u001b[39m \u001b[38;5;28mself\u001b[39m\u001b[38;5;241m.\u001b[39m_collect_reachable_nodes(input_names, output_names)\n\u001b[1;32m    168\u001b[0m     initializer, value_info \u001b[38;5;241m=\u001b[39m \u001b[38;5;28mself\u001b[39m\u001b[38;5;241m.\u001b[39m_collect_reachable_tensors(nodes)\n",
      "File \u001b[0;32m/media/raid0/.conda/lib/python3.11/site-packages/onnx/utils.py:47\u001b[0m, in \u001b[0;36mExtractor._collect_new_outputs\u001b[0;34m(self, names)\u001b[0m\n\u001b[1;32m     46\u001b[0m \u001b[38;5;28;01mdef\u001b[39;00m \u001b[38;5;21m_collect_new_outputs\u001b[39m(\u001b[38;5;28mself\u001b[39m, names: \u001b[38;5;28mlist\u001b[39m[\u001b[38;5;28mstr\u001b[39m]) \u001b[38;5;241m-\u001b[39m\u001b[38;5;241m>\u001b[39m \u001b[38;5;28mlist\u001b[39m[ValueInfoProto]:\n\u001b[0;32m---> 47\u001b[0m     \u001b[38;5;28;01mreturn\u001b[39;00m \u001b[38;5;28;43mself\u001b[39;49m\u001b[38;5;241;43m.\u001b[39;49m\u001b[43m_collect_new_io_core\u001b[49m\u001b[43m(\u001b[49m\u001b[38;5;28;43mself\u001b[39;49m\u001b[38;5;241;43m.\u001b[39;49m\u001b[43mgraph\u001b[49m\u001b[38;5;241;43m.\u001b[39;49m\u001b[43moutput\u001b[49m\u001b[43m,\u001b[49m\u001b[43m \u001b[49m\u001b[43mnames\u001b[49m\u001b[43m)\u001b[49m\n",
      "File \u001b[0;32m/media/raid0/.conda/lib/python3.11/site-packages/onnx/utils.py:37\u001b[0m, in \u001b[0;36mExtractor._collect_new_io_core\u001b[0;34m(self, original_io, io_names_to_extract)\u001b[0m\n\u001b[1;32m     34\u001b[0m     new_io_tensors\u001b[38;5;241m.\u001b[39mappend(original_io_map[name])\n\u001b[1;32m     35\u001b[0m \u001b[38;5;28;01mfor\u001b[39;00m name \u001b[38;5;129;01min\u001b[39;00m new_io_names_to_add:\n\u001b[1;32m     36\u001b[0m     \u001b[38;5;66;03m# activation become input or output\u001b[39;00m\n\u001b[0;32m---> 37\u001b[0m     new_io_tensors\u001b[38;5;241m.\u001b[39mappend(\u001b[38;5;28;43mself\u001b[39;49m\u001b[38;5;241;43m.\u001b[39;49m\u001b[43mvimap\u001b[49m\u001b[43m[\u001b[49m\u001b[43mname\u001b[49m\u001b[43m]\u001b[49m)\n\u001b[1;32m     39\u001b[0m \u001b[38;5;66;03m# adjust sequence\u001b[39;00m\n\u001b[1;32m     40\u001b[0m new_io_tensors_map \u001b[38;5;241m=\u001b[39m \u001b[38;5;28mself\u001b[39m\u001b[38;5;241m.\u001b[39m_build_name2obj_dict(new_io_tensors)\n",
      "\u001b[0;31mKeyError\u001b[0m: 'Reshape_0'"
     ]
    }
   ],
   "source": [
    "feature_extractor_input_names = ['input']\n",
    "feature_extractor_output_names = ['Reshape_0'] \n",
    "detection_head_input_names = ['Reshape_0']  \n",
    "detection_head_output_names = ['output_detection']  \n",
    "classification_head_input_names = ['Reshape_0']  \n",
    "classification_head_output_names = ['output_classification']  \n",
    "\n",
    "feature_extractor = onnx.utils.extract_model(MODEL_PATH, OUTPUT_PATH_FEATURE_EXTRACTOR, feature_extractor_input_names, feature_extractor_output_names, check_model=True)"
   ]
  }
 ],
 "metadata": {
  "kernelspec": {
   "display_name": "Python 3",
   "language": "python",
   "name": "python3"
  },
  "language_info": {
   "codemirror_mode": {
    "name": "ipython",
    "version": 3
   },
   "file_extension": ".py",
   "mimetype": "text/x-python",
   "name": "python",
   "nbconvert_exporter": "python",
   "pygments_lexer": "ipython3",
   "version": "3.11.9"
  }
 },
 "nbformat": 4,
 "nbformat_minor": 2
}
